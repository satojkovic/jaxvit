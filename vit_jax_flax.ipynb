{
  "nbformat": 4,
  "nbformat_minor": 0,
  "metadata": {
    "colab": {
      "private_outputs": true,
      "provenance": []
    },
    "kernelspec": {
      "name": "python3",
      "display_name": "Python 3"
    },
    "language_info": {
      "name": "python"
    },
    "accelerator": "GPU",
    "gpuClass": "standard"
  },
  "cells": [
    {
      "cell_type": "code",
      "source": [
        "!nvcc --version"
      ],
      "metadata": {
        "id": "4zlFHtNbVSdy"
      },
      "execution_count": null,
      "outputs": []
    },
    {
      "cell_type": "code",
      "source": [
        "!ls -l /usr/lib/x86_64-linux-gnu/libcudnn.so*"
      ],
      "metadata": {
        "id": "2hlqlG3OU3Zw"
      },
      "execution_count": null,
      "outputs": []
    },
    {
      "cell_type": "code",
      "source": [
        "!cat /usr/include/cudnn_version.h | grep MAJOR -A 2"
      ],
      "metadata": {
        "id": "I-zKamopbA21"
      },
      "execution_count": null,
      "outputs": []
    },
    {
      "cell_type": "code",
      "source": [
        "!echo $LD_LIBRARY_PATH"
      ],
      "metadata": {
        "id": "bahRRh3bVavr"
      },
      "execution_count": null,
      "outputs": []
    },
    {
      "cell_type": "code",
      "execution_count": null,
      "metadata": {
        "id": "-ktBNz7HKxUS"
      },
      "outputs": [],
      "source": [
        "!pip install --upgrade pip\n",
        "# Installs the wheel compatible with CUDA 11 and cuDNN 8.2 or newer.\n",
        "# Note: wheels only available on linux.\n",
        "!pip install --upgrade \"jax[cuda]\" -f https://storage.googleapis.com/jax-releases/jax_cuda_releases.html"
      ]
    },
    {
      "cell_type": "code",
      "source": [
        "!pip install flax"
      ],
      "metadata": {
        "id": "Ot7UVoRW9HP6"
      },
      "execution_count": null,
      "outputs": []
    },
    {
      "cell_type": "code",
      "source": [
        "!pip install tqdm"
      ],
      "metadata": {
        "id": "iXtMFKHOYkvz"
      },
      "execution_count": null,
      "outputs": []
    },
    {
      "cell_type": "code",
      "source": [
        "import jax\n",
        "import jax.numpy as jnp\n",
        "import jax.dlpack\n",
        "from jax import grad, jit, vmap, random\n",
        "from jax import random\n",
        "from jax.example_libraries import stax, optimizers\n",
        "\n",
        "from tensorflow import keras\n",
        "import tensorflow_datasets as tfds\n",
        "import tensorflow as tf\n",
        "\n",
        "import time\n",
        "import numpy.random as npr\n",
        "import math\n",
        "\n",
        "from typing import Optional\n",
        "\n",
        "import optax\n",
        "from flax.training import train_state, checkpoints\n",
        "\n",
        "from tqdm.auto import tqdm\n",
        "from collections import defaultdict\n",
        "\n",
        "import numpy as np\n",
        "\n",
        "import torch\n",
        "from torch.utils.tensorboard import SummaryWriter\n",
        "\n",
        "import matplotlib.pyplot as plt"
      ],
      "metadata": {
        "id": "MGT0h4ZRK3W2"
      },
      "execution_count": null,
      "outputs": []
    },
    {
      "cell_type": "markdown",
      "source": [
        "## ViT"
      ],
      "metadata": {
        "id": "iNmAau7872pm"
      }
    },
    {
      "cell_type": "code",
      "source": [
        "from flax import linen as nn"
      ],
      "metadata": {
        "id": "nIYx16Xv896d"
      },
      "execution_count": null,
      "outputs": []
    },
    {
      "cell_type": "code",
      "source": [
        "class Patches(nn.Module):\n",
        "  patch_size: int\n",
        "  embed_dim: int\n",
        "\n",
        "  def setup(self):\n",
        "    self.conv = nn.Conv(\n",
        "        features=self.embed_dim,\n",
        "        kernel_size=(self.patch_size, self.patch_size),\n",
        "        strides=(self.patch_size, self.patch_size),\n",
        "        padding='VALID'\n",
        "    )\n",
        "\n",
        "  def __call__(self, images):\n",
        "    patches = self.conv(images)\n",
        "    b, h, w, c = patches.shape\n",
        "    patches = jnp.reshape(patches, (b, h*w, c))\n",
        "    return patches"
      ],
      "metadata": {
        "id": "FmUlFQSBL1Gw"
      },
      "execution_count": null,
      "outputs": []
    },
    {
      "cell_type": "code",
      "source": [
        "class PatchEncoder(nn.Module):\n",
        "  hidden_dim: int\n",
        "\n",
        "  @nn.compact\n",
        "  def __call__(self, x):\n",
        "    assert x.ndim == 3\n",
        "    n, seq_len, _ = x.shape\n",
        "    # Hidden dim\n",
        "    x = nn.Dense(self.hidden_dim)(x)\n",
        "    # Add cls token\n",
        "    cls = self.param('cls_token', nn.initializers.zeros, (1, 1, self.hidden_dim))\n",
        "    cls = jnp.tile(cls, (n, 1, 1))\n",
        "    x = jnp.concatenate([cls, x], axis=1)\n",
        "    # Add position embedding\n",
        "    pos_embed = self.param(\n",
        "        'position_embedding', \n",
        "        nn.initializers.normal(stddev=0.02), # From BERT\n",
        "        (1, seq_len + 1, self.hidden_dim)\n",
        "    )\n",
        "    return x + pos_embed"
      ],
      "metadata": {
        "id": "vkA3rripeet2"
      },
      "execution_count": null,
      "outputs": []
    },
    {
      "cell_type": "code",
      "source": [
        "class MultiHeadSelfAttention(nn.Module):\n",
        "  hidden_dim: int\n",
        "  n_heads: int\n",
        "  drop_p: float\n",
        "\n",
        "  def setup(self):\n",
        "    self.q_net = nn.Dense(self.hidden_dim)\n",
        "    self.k_net = nn.Dense(self.hidden_dim)\n",
        "    self.v_net = nn.Dense(self.hidden_dim)\n",
        "\n",
        "    self.proj_net = nn.Dense(self.hidden_dim)\n",
        "\n",
        "    self.att_drop = nn.Dropout(self.drop_p)\n",
        "    self.proj_drop = nn.Dropout(self.drop_p)\n",
        "\n",
        "  def __call__(self, x, train=True):\n",
        "    B, T, C = x.shape # batch_size, seq_length, hidden_dim\n",
        "    N, D = self.n_heads, C // self.n_heads # num_heads, head_dim\n",
        "    q = self.q_net(x).reshape(B, T, N, D).transpose(0, 2, 1, 3) # (B, N, T, D)\n",
        "    k = self.k_net(x).reshape(B, T, N, D).transpose(0, 2, 1, 3)\n",
        "    v = self.v_net(x).reshape(B, T, N, D).transpose(0, 2, 1, 3)\n",
        "\n",
        "    # weights (B, N, T, T)\n",
        "    weights = jnp.matmul(q, jnp.swapaxes(k, -2, -1)) / math.sqrt(D)\n",
        "    normalized_weights = nn.softmax(weights, axis=-1)\n",
        "\n",
        "    # attention (B, N, T, D)\n",
        "    attention = jnp.matmul(normalized_weights, v)\n",
        "    attention = self.att_drop(attention, deterministic=not train)\n",
        "\n",
        "    # gather heads\n",
        "    attention = attention.transpose(0, 2, 1, 3).reshape(B, T, N*D)\n",
        "\n",
        "    # project\n",
        "    out = self.proj_drop(self.proj_net(attention), deterministic=not train)\n",
        "\n",
        "    return out"
      ],
      "metadata": {
        "id": "03qMlD1p72M8"
      },
      "execution_count": null,
      "outputs": []
    },
    {
      "cell_type": "code",
      "source": [
        "class MLP(nn.Module):\n",
        "  mlp_dim: int\n",
        "  drop_p: float\n",
        "  out_dim: Optional[int] = None\n",
        "\n",
        "  @nn.compact\n",
        "  def __call__(self, inputs, train=True):\n",
        "    actual_out_dim = inputs.shape[-1] if self.out_dim is None else self.out_dim\n",
        "    x = nn.Dense(features=self.mlp_dim)(inputs)\n",
        "    x = nn.gelu(x)\n",
        "    x = nn.Dropout(rate=self.drop_p, deterministic=not train)(x)\n",
        "    x = nn.Dense(features=actual_out_dim)(x)\n",
        "    x = nn.Dropout(rate=self.drop_p, deterministic=not train)(x)\n",
        "    return x"
      ],
      "metadata": {
        "id": "yZ83UwjTQm9r"
      },
      "execution_count": null,
      "outputs": []
    },
    {
      "cell_type": "code",
      "source": [
        "class Transformer(nn.Module):\n",
        "  embed_dim: int\n",
        "  hidden_dim: int\n",
        "  n_heads: int\n",
        "  drop_p: float\n",
        "  mlp_dim: int\n",
        "\n",
        "  def setup(self):\n",
        "    self.mha = MultiHeadSelfAttention(self.hidden_dim, self.n_heads, self.drop_p)\n",
        "    self.mlp = MLP(self.mlp_dim, self.drop_p)\n",
        "    self.layer_norm = nn.LayerNorm(epsilon=1e-6)\n",
        "    self.dropout = nn.Dropout(rate=self.drop_p)\n",
        "  \n",
        "  def __call__(self, inputs, train=True):\n",
        "    # Attention Block\n",
        "    x = self.layer_norm(inputs)\n",
        "    x = self.mha(x, train)\n",
        "    x = inputs + self.dropout(x, deterministic=not train)\n",
        "    # MLP block\n",
        "    y = self.layer_norm(x)\n",
        "    y = self.mlp(y, train)\n",
        "\n",
        "    return x + y"
      ],
      "metadata": {
        "id": "Oi4p-2JcHej8"
      },
      "execution_count": null,
      "outputs": []
    },
    {
      "cell_type": "code",
      "source": [
        "class ViT(nn.Module):\n",
        "  patch_size: int\n",
        "  embed_dim: int\n",
        "  hidden_dim: int\n",
        "  n_heads: int\n",
        "  drop_p: float\n",
        "  num_layers: int\n",
        "  mlp_dim: int\n",
        "  num_classes: int\n",
        "\n",
        "  def setup(self):\n",
        "    self.patch_extracter = Patches(self.patch_size, self.embed_dim)\n",
        "    self.patch_encoder = PatchEncoder(self.hidden_dim)\n",
        "    self.transformer = Transformer(self.embed_dim, self.hidden_dim, self.n_heads, self.drop_p, self.mlp_dim)\n",
        "    self.mlp_head = MLP(self.mlp_dim, self.drop_p)\n",
        "    self.cls_head = nn.Dense(features=self.num_classes)\n",
        "\n",
        "  def __call__(self, x, train=True):\n",
        "    x = self.patch_extracter(x)\n",
        "    x = self.patch_encoder(x)\n",
        "    for i in range(self.num_layers):\n",
        "      x = self.transformer(x, train)\n",
        "    # MLP head\n",
        "    x = x[:, 0] # [CLS] token\n",
        "    x = self.mlp_head(x, train)\n",
        "    x = self.cls_head(x)\n",
        "    return x"
      ],
      "metadata": {
        "id": "eq_xl6tFBrTj"
      },
      "execution_count": null,
      "outputs": []
    },
    {
      "cell_type": "markdown",
      "source": [
        "## Initialize ViT"
      ],
      "metadata": {
        "id": "wCcAE57QLZss"
      }
    },
    {
      "cell_type": "code",
      "source": [
        "main_rng = jax.random.PRNGKey(42)\n",
        "x = jnp.ones(shape=(5, 32, 32, 3))\n",
        "# ViT\n",
        "model = ViT(\n",
        "    patch_size=4,\n",
        "    embed_dim=256,\n",
        "    hidden_dim=512,\n",
        "    n_heads=8,\n",
        "    drop_p=0.2,\n",
        "    num_layers=6,\n",
        "    mlp_dim=1024,\n",
        "    num_classes=10\n",
        ")\n",
        "main_rng, init_rng, drop_rng = random.split(main_rng, 3)\n",
        "params = model.init({'params': init_rng, 'dropout': drop_rng}, x, train=True)['params']"
      ],
      "metadata": {
        "id": "zCz8JPL2NY9O"
      },
      "execution_count": null,
      "outputs": []
    },
    {
      "cell_type": "code",
      "source": [
        "jax.tree_map(lambda x: x.shape, params)"
      ],
      "metadata": {
        "id": "w4FKGPAnLK1m"
      },
      "execution_count": null,
      "outputs": []
    },
    {
      "cell_type": "markdown",
      "source": [
        "## Dataset preparation(torchvision)"
      ],
      "metadata": {
        "id": "6Ytr_d-335mt"
      }
    },
    {
      "cell_type": "code",
      "source": [
        "import torchvision\n",
        "from torchvision import transforms\n",
        "from torchvision.datasets import CIFAR10"
      ],
      "metadata": {
        "id": "tkIV9zHp4C_f"
      },
      "execution_count": null,
      "outputs": []
    },
    {
      "cell_type": "code",
      "source": [
        "DATA_MEANS = np.array([0.49139968, 0.48215841, 0.44653091])\n",
        "DATA_STD = np.array([0.24703223, 0.24348513, 0.26158784])\n",
        "def image_to_numpy(img):\n",
        "  img = np.array(img, dtype=np.float32)\n",
        "  img = (img / 255. - DATA_MEANS) / DATA_STD\n",
        "  return img"
      ],
      "metadata": {
        "id": "3u7GUZ9b4SWU"
      },
      "execution_count": null,
      "outputs": []
    },
    {
      "cell_type": "code",
      "source": [
        "# We need to stack the batch elements\n",
        "def numpy_collate(batch):\n",
        "  if isinstance(batch[0], np.ndarray):\n",
        "    return np.stack(batch)\n",
        "  elif isinstance(batch[0], (tuple, list)):\n",
        "    transposed = zip(*batch)\n",
        "    return [numpy_collate(samples) for samples in transposed]\n",
        "  else:\n",
        "    return np.array(batch)"
      ],
      "metadata": {
        "id": "G0s3OIso4xHy"
      },
      "execution_count": null,
      "outputs": []
    },
    {
      "cell_type": "code",
      "source": [
        "test_transform = image_to_numpy\n",
        "# For training, we add some augmentations. Neworks are too powerful and would overfit.\n",
        "train_transform = transforms.Compose([\n",
        "    transforms.RandomHorizontalFlip(),\n",
        "    transforms.RandomResizedCrop((32, 32), scale=(0.8, 1.0), ratio=(0.9, 1.1)),\n",
        "    image_to_numpy\n",
        "])"
      ],
      "metadata": {
        "id": "Di7sX4aM5Mg9"
      },
      "execution_count": null,
      "outputs": []
    },
    {
      "cell_type": "code",
      "source": [
        "train_dataset = CIFAR10('data', train=True, transform=train_transform, download=True)\n",
        "val_dataset = CIFAR10('data', train=True, transform=test_transform, download=True)\n",
        "train_set, _ = torch.utils.data.random_split(train_dataset, [45000, 5000], generator=torch.Generator().manual_seed(42))\n",
        "_, val_set = torch.utils.data.random_split(val_dataset, [45000, 5000], generator=torch.Generator().manual_seed(42))\n",
        "test_set = CIFAR10('data', train=False, transform=test_transform, download=True)"
      ],
      "metadata": {
        "id": "EOB2IMIV55Ud"
      },
      "execution_count": null,
      "outputs": []
    },
    {
      "cell_type": "code",
      "source": [
        "train_loader = torch.utils.data.DataLoader(\n",
        "    train_set, batch_size=128, shuffle=True, drop_last=True, collate_fn=numpy_collate, num_workers=8, persistent_workers=True\n",
        ")\n",
        "val_loader = torch.utils.data.DataLoader(\n",
        "    val_set, batch_size=128, shuffle=False, drop_last=False, collate_fn=numpy_collate, num_workers=4, persistent_workers=True\n",
        ")\n",
        "test_loader = torch.utils.data.DataLoader(\n",
        "    test_set, batch_size=128, shuffle=False, drop_last=False, collate_fn=numpy_collate, num_workers=4, persistent_workers=True\n",
        ")"
      ],
      "metadata": {
        "id": "rgIBmf0s6-QR"
      },
      "execution_count": null,
      "outputs": []
    },
    {
      "cell_type": "code",
      "source": [
        "# Visualize some examples\n",
        "def numpy_to_torch(array):\n",
        "  array = jax.device_get(array)\n",
        "  tensor = torch.from_numpy(array)\n",
        "  tensor = tensor.permute(0, 3, 1, 2)\n",
        "  return tensor\n",
        "\n",
        "NUM_IMAGES = 8\n",
        "CIFAR_images = np.stack([val_set[idx][0] for idx in range(NUM_IMAGES)], axis=0)\n",
        "img_grid = torchvision.utils.make_grid(numpy_to_torch(CIFAR_images), nrow=4, normalize=True, pad_value=0.9)\n",
        "img_grid = img_grid.permute(1, 2, 0)\n",
        "\n",
        "plt.figure(figsize=(8,8))\n",
        "plt.title(\"Image examples of the CIFAR10 dataset\")\n",
        "plt.imshow(img_grid)\n",
        "plt.axis('off')\n",
        "plt.show()\n",
        "plt.close()"
      ],
      "metadata": {
        "id": "VIqoANBI71qj"
      },
      "execution_count": null,
      "outputs": []
    },
    {
      "cell_type": "markdown",
      "source": [
        "## Training ViT"
      ],
      "metadata": {
        "id": "gK1Eny56luxx"
      }
    },
    {
      "cell_type": "code",
      "source": [
        "def calculate_loss(params, rng, batch, train):\n",
        "  imgs, labels = batch\n",
        "  rng, drop_rng = random.split(rng)\n",
        "  logits = model.apply({'params': params}, imgs, train=train, rngs={'dropout': drop_rng})\n",
        "  loss = optax.softmax_cross_entropy_with_integer_labels(logits=logits, labels=labels).mean()\n",
        "  acc = (logits.argmax(axis=-1) == labels).mean()\n",
        "  return loss, (acc, rng)"
      ],
      "metadata": {
        "id": "-geg2pmOoOwX"
      },
      "execution_count": null,
      "outputs": []
    },
    {
      "cell_type": "code",
      "source": [
        "@jax.jit\n",
        "def train_step(state, rng, batch):\n",
        "  loss_fn = lambda params: calculate_loss(params, rng, batch, train=True)\n",
        "  # Get loss, gradients for loss, and other outputs of loss function\n",
        "  (loss, (acc, rng)), grads = jax.value_and_grad(loss_fn, has_aux=True)(state.params)\n",
        "  # Update parameters and batch statistics\n",
        "  state = state.apply_gradients(grads=grads)\n",
        "  return state, rng, loss, acc"
      ],
      "metadata": {
        "id": "bLvmNll-pLzA"
      },
      "execution_count": null,
      "outputs": []
    },
    {
      "cell_type": "code",
      "source": [
        "@jax.jit\n",
        "def eval_step(state, rng, batch):\n",
        "  _, (acc, rng) = calculate_loss(state.params, rng, batch, train=False)\n",
        "  return rng, acc"
      ],
      "metadata": {
        "id": "TyXw0Q1d89HR"
      },
      "execution_count": null,
      "outputs": []
    },
    {
      "cell_type": "code",
      "source": [
        "logger = SummaryWriter(log_dir='vit_jax_logs')"
      ],
      "metadata": {
        "id": "NHXSxZ2o6_a_"
      },
      "execution_count": null,
      "outputs": []
    },
    {
      "cell_type": "code",
      "source": [
        "def train_epoch(train_loader, epoch_idx, state, rng):\n",
        "  metrics = defaultdict(list)\n",
        "  for batch in tqdm(train_loader, desc='Training', leave=False):\n",
        "    state, rng, loss, acc = train_step(state, rng, batch)\n",
        "    metrics['loss'].append(loss)\n",
        "    metrics['acc'].append(acc)\n",
        "  for key in metrics.keys():\n",
        "    arg_val = np.stack(jax.device_get(metrics[key])).mean()\n",
        "    logger.add_scalar('train/' + key, arg_val, global_step=epoch_idx)\n",
        "    print(f'[epoch {epoch_idx}] {key}: {arg_val}')\n",
        "  return state, rng"
      ],
      "metadata": {
        "id": "5Wj9i4EU2LL9"
      },
      "execution_count": null,
      "outputs": []
    },
    {
      "cell_type": "code",
      "source": [
        "def eval_model(val_loader, state, rng):\n",
        "  # Test model on all images of a data loader and return avg loss\n",
        "  correct_class, count = 0, 0\n",
        "  for batch in val_loader:\n",
        "    rng, acc = eval_step(state, rng, batch)\n",
        "    correct_class += acc * batch[0].shape[0]\n",
        "    count += batch[0].shape[0]\n",
        "  eval_acc = (correct_class / count).item()\n",
        "  return eval_acc"
      ],
      "metadata": {
        "id": "BaOva65J8Ay2"
      },
      "execution_count": null,
      "outputs": []
    },
    {
      "cell_type": "code",
      "source": [
        "def save_model(state, step=0):\n",
        "  checkpoints.save_checkpoint(ckpt_dir='vit_jax_logs', target=state.params, step=step, overwrite=True)"
      ],
      "metadata": {
        "id": "SW0BlojZ-a1c"
      },
      "execution_count": null,
      "outputs": []
    },
    {
      "cell_type": "code",
      "source": [
        "def train_model(train_loader, val_loader, state, rng, num_epochs=200):\n",
        "  best_eval = 0.0\n",
        "  for epoch_idx in tqdm(range(1, num_epochs + 1)):\n",
        "    state, rng = train_epoch(train_loader, epoch_idx, state, rng)\n",
        "    if epoch_idx % 1 == 0:\n",
        "      eval_acc = eval_model(val_loader, state, rng)\n",
        "      logger.add_scalar('val/acc', eval_acc, global_step=epoch_idx)\n",
        "      if eval_acc >= best_eval:\n",
        "        best_eval = eval_acc\n",
        "        save_model(state, step=epoch_idx)\n",
        "      logger.flush()\n",
        "  # Evaluate after training\n",
        "  print(eval_model(val_loader, state, rng))"
      ],
      "metadata": {
        "id": "0yLMra-C3-xC"
      },
      "execution_count": null,
      "outputs": []
    },
    {
      "cell_type": "code",
      "source": [
        "def init_train_state(\n",
        "    model, params, learning_rate\n",
        "):\n",
        "  optimizer = optax.adam(learning_rate)\n",
        "  return train_state.TrainState.create(\n",
        "      apply_fn=model.apply,\n",
        "      tx=optimizer,\n",
        "      params=params\n",
        "  )"
      ],
      "metadata": {
        "id": "BQtd9GoQRFtJ"
      },
      "execution_count": null,
      "outputs": []
    },
    {
      "cell_type": "code",
      "source": [
        "state = init_train_state(model, params, 3e-4)"
      ],
      "metadata": {
        "id": "sXDI4K55Rdan"
      },
      "execution_count": null,
      "outputs": []
    },
    {
      "cell_type": "code",
      "source": [
        "train_model(train_loader, val_loader, state, main_rng, num_epochs=10)"
      ],
      "metadata": {
        "id": "CEW1gpM8_R66"
      },
      "execution_count": null,
      "outputs": []
    }
  ]
}