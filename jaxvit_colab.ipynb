{
  "nbformat": 4,
  "nbformat_minor": 0,
  "metadata": {
    "colab": {
      "private_outputs": true,
      "provenance": []
    },
    "kernelspec": {
      "name": "python3",
      "display_name": "Python 3"
    },
    "language_info": {
      "name": "python"
    },
    "accelerator": "GPU",
    "gpuClass": "standard"
  },
  "cells": [
    {
      "cell_type": "code",
      "execution_count": null,
      "metadata": {
        "id": "-ktBNz7HKxUS"
      },
      "outputs": [],
      "source": [
        "!pip install --upgrade pip\n",
        "# Installs the wheel compatible with CUDA 11 and cuDNN 8.2 or newer.\n",
        "# Note: wheels only available on linux.\n",
        "!pip install --upgrade \"jax[cuda]\" -f https://storage.googleapis.com/jax-releases/jax_cuda_releases.html"
      ]
    },
    {
      "cell_type": "code",
      "source": [
        "import jax\n",
        "import jax.numpy as jnp\n",
        "from jax import grad, jit, vmap\n",
        "from jax import random\n",
        "\n",
        "from tensorflow import keras\n",
        "import tensorflow_datasets as tfds\n",
        "import tensorflow as tf\n",
        "\n",
        "import time"
      ],
      "metadata": {
        "id": "MGT0h4ZRK3W2"
      },
      "execution_count": null,
      "outputs": []
    },
    {
      "cell_type": "markdown",
      "source": [
        "## MLP by JAX"
      ],
      "metadata": {
        "id": "aEJyDs4jl8sc"
      }
    },
    {
      "cell_type": "code",
      "source": [
        "def random_layer_params(m, n, key, scale=1e-2):\n",
        "  w_key, b_key = random.split(key)\n",
        "  return scale * random.normal(w_key, (n, m)), scale * random.normal(b_key, (n,))"
      ],
      "metadata": {
        "id": "xgE03QQ5r9x0"
      },
      "execution_count": null,
      "outputs": []
    },
    {
      "cell_type": "code",
      "source": [
        "def init_network_params(layer_sizes, key):\n",
        "  keys = random.split(key, len(layer_sizes))\n",
        "  return [random_layer_params(m, n, k) for m, n, k in zip(layer_sizes[:-1], layer_sizes[1:], keys)]"
      ],
      "metadata": {
        "id": "kG6_GoBUqxKw"
      },
      "execution_count": null,
      "outputs": []
    },
    {
      "cell_type": "code",
      "source": [
        "layer_sizes = [784, 512, 512, 10]\n",
        "step_size = 0.01\n",
        "num_epochs = 10\n",
        "batch_size = 128\n",
        "n_targets = 10\n",
        "params = init_network_params(layer_sizes, random.PRNGKey(0))"
      ],
      "metadata": {
        "id": "Goep5N12mGZ7"
      },
      "execution_count": null,
      "outputs": []
    },
    {
      "cell_type": "code",
      "source": [
        "print(f'num. of layers: {len(params)}')\n",
        "for i in range(len(params)):\n",
        "  print(f'layer {i}: w={params[i][0].shape}, b={params[i][1].shape}')"
      ],
      "metadata": {
        "id": "BmXLo3ORsksz"
      },
      "execution_count": null,
      "outputs": []
    },
    {
      "cell_type": "code",
      "source": [
        "def relu(x):\n",
        "  return jnp.maximum(0, x)"
      ],
      "metadata": {
        "id": "k4kV9y1KfWdB"
      },
      "execution_count": null,
      "outputs": []
    },
    {
      "cell_type": "code",
      "source": [
        "from jax.scipy.special import logsumexp"
      ],
      "metadata": {
        "id": "hGCDG90qf6B1"
      },
      "execution_count": null,
      "outputs": []
    },
    {
      "cell_type": "code",
      "source": [
        "def predict(params, image):\n",
        "  activations = image\n",
        "  for w, b in params[:-1]:\n",
        "    outputs = jnp.dot(w, activations) + b\n",
        "    activations = relu(outputs)\n",
        "  w_last, b_last = params[-1]\n",
        "  logits = jnp.dot(w_last, activations) + b_last\n",
        "  return logits - logsumexp(logits)"
      ],
      "metadata": {
        "id": "UzPUZClpfc47"
      },
      "execution_count": null,
      "outputs": []
    },
    {
      "cell_type": "code",
      "source": [
        "random_flattened_image = random.normal(random.PRNGKey(1), (28 * 28,))\n",
        "preds = predict(params, random_flattened_image)"
      ],
      "metadata": {
        "id": "lzq-6utmgBzj"
      },
      "execution_count": null,
      "outputs": []
    },
    {
      "cell_type": "code",
      "source": [
        "print(f'preds: {preds.shape}')\n",
        "print(f'preds values: {preds}')"
      ],
      "metadata": {
        "id": "F-71aDc2gUNf"
      },
      "execution_count": null,
      "outputs": []
    },
    {
      "cell_type": "code",
      "source": [
        "batched_predict = vmap(predict, in_axes=(None, 0))"
      ],
      "metadata": {
        "id": "IgqgdNUSg4YD"
      },
      "execution_count": null,
      "outputs": []
    },
    {
      "cell_type": "code",
      "source": [
        "random_flattened_images = random.normal(random.PRNGKey(1), (10, 28*28))\n",
        "batched_preds = batched_predict(params, random_flattened_images)\n",
        "print(batched_preds.shape)"
      ],
      "metadata": {
        "id": "zUESaDoNjUmh"
      },
      "execution_count": null,
      "outputs": []
    },
    {
      "cell_type": "code",
      "source": [
        "print(batched_preds[0, :])\n",
        "print(jax.nn.softmax(batched_preds[0, :]))"
      ],
      "metadata": {
        "id": "n27kvlgBNneO"
      },
      "execution_count": null,
      "outputs": []
    },
    {
      "cell_type": "code",
      "source": [
        "def one_hot(x, k, dtype=jnp.float32):\n",
        "  # x[:, None] => add new axis (x.shape=(10,) -> x.shape=(10, 1))\n",
        "  return jnp.array(x[:, None] == jnp.arange(k), dtype=dtype)"
      ],
      "metadata": {
        "id": "gANbkeI0zuWH"
      },
      "execution_count": null,
      "outputs": []
    },
    {
      "cell_type": "code",
      "source": [
        "def accuracy(params, images, targets):\n",
        "  target_class = jnp.argmax(targets, axis=1)\n",
        "  predicted_class = jnp.argmax(batched_predict(params, images), axis=1)\n",
        "  return jnp.mean(predicted_class == target_class) # num. of True / target_class.shape[0] * target_class.shape[1]"
      ],
      "metadata": {
        "id": "vdzDR46F2Jh9"
      },
      "execution_count": null,
      "outputs": []
    },
    {
      "cell_type": "code",
      "source": [
        "def loss(params, images, targets):\n",
        "  preds = batched_predict(params, images)\n",
        "  return -jnp.mean(preds * targets) # among the preds, only values with target class of 1 are considered."
      ],
      "metadata": {
        "id": "Xs6hE_2HHTYR"
      },
      "execution_count": null,
      "outputs": []
    },
    {
      "cell_type": "code",
      "source": [
        "@jit\n",
        "def update(params, x, y):\n",
        "  grads = grad(loss)(params, x, y)\n",
        "  return [(w - step_size * dw, b - step_size * db) for (w, b), (dw, db) in zip(params, grads)]"
      ],
      "metadata": {
        "id": "ybrzSDP0PJn5"
      },
      "execution_count": null,
      "outputs": []
    },
    {
      "cell_type": "code",
      "source": [
        "data_dir = 'tfds_mnist'\n",
        "mnist_data, info = tfds.load(name='mnist', batch_size=-1, data_dir=data_dir, with_info=True)"
      ],
      "metadata": {
        "id": "DtedlQ3kFMLm"
      },
      "execution_count": null,
      "outputs": []
    },
    {
      "cell_type": "code",
      "source": [
        "mnist_data = tfds.as_numpy(mnist_data)"
      ],
      "metadata": {
        "id": "osX2dwtsFb1d"
      },
      "execution_count": null,
      "outputs": []
    },
    {
      "cell_type": "code",
      "source": [
        "train_data, test_data = mnist_data['train'], mnist_data['test']"
      ],
      "metadata": {
        "id": "RxarlHC6FfGQ"
      },
      "execution_count": null,
      "outputs": []
    },
    {
      "cell_type": "code",
      "source": [
        "num_labels = info.features['label'].num_classes"
      ],
      "metadata": {
        "id": "tUjM1Ve1FmQS"
      },
      "execution_count": null,
      "outputs": []
    },
    {
      "cell_type": "code",
      "source": [
        "h, w, c = info.features['image'].shape"
      ],
      "metadata": {
        "id": "Dsb3gQAvFtOL"
      },
      "execution_count": null,
      "outputs": []
    },
    {
      "cell_type": "code",
      "source": [
        "num_pixels = h * w * c"
      ],
      "metadata": {
        "id": "XPAlWzyxFxbJ"
      },
      "execution_count": null,
      "outputs": []
    },
    {
      "cell_type": "code",
      "source": [
        "print(f'(h, w, c) = ({h}, {w}, {c})')\n",
        "print(f'num_labels: {num_labels}')\n",
        "print(f'train_data: {train_data[\"image\"].shape}')\n",
        "print(f'train_labels: {train_data[\"label\"].shape}')\n",
        "print(f'test_data: {test_data[\"image\"].shape}')\n",
        "print(f'test_labels: {test_data[\"label\"].shape}')"
      ],
      "metadata": {
        "id": "UfWiugbkFzdv"
      },
      "execution_count": null,
      "outputs": []
    },
    {
      "cell_type": "code",
      "source": [
        "train_images, train_labels = train_data['image'], train_data['label']\n",
        "train_images = jnp.reshape(train_images, (len(train_images), num_pixels))\n",
        "train_labels = one_hot(train_labels, num_labels)"
      ],
      "metadata": {
        "id": "buTehepLGiMe"
      },
      "execution_count": null,
      "outputs": []
    },
    {
      "cell_type": "code",
      "source": [
        "test_images, test_labels = test_data['image'], test_data['label']\n",
        "test_images = jnp.reshape(test_images, (len(test_images), num_pixels))\n",
        "test_labels = one_hot(test_labels, num_labels)"
      ],
      "metadata": {
        "id": "5pcD9-SEG0kK"
      },
      "execution_count": null,
      "outputs": []
    },
    {
      "cell_type": "code",
      "source": [
        "print(f'Train: {train_images.shape}, {train_labels.shape}')\n",
        "print(f'Test: {test_images.shape}, {test_labels.shape}')"
      ],
      "metadata": {
        "id": "8-rw2L63G_8q"
      },
      "execution_count": null,
      "outputs": []
    },
    {
      "cell_type": "code",
      "source": [
        "def get_train_batches():\n",
        "  ds = tfds.load(name='mnist', split='train', as_supervised=True, data_dir=data_dir)\n",
        "  ds = ds.batch(batch_size).prefetch(buffer_size=tf.data.AUTOTUNE)\n",
        "  return tfds.as_numpy(ds)"
      ],
      "metadata": {
        "id": "KtOeeL8oHS07"
      },
      "execution_count": null,
      "outputs": []
    },
    {
      "cell_type": "code",
      "source": [
        "for epoch in range(num_epochs):\n",
        "  start_time = time.time()\n",
        "  for x, y in get_train_batches():\n",
        "    x = jnp.reshape(x, (len(x), num_pixels))\n",
        "    y = one_hot(y, num_labels)\n",
        "    params = update(params, x, y)\n",
        "  epoch_time = time.time() - start_time\n",
        "\n",
        "  train_acc = accuracy(params, train_images, train_labels)\n",
        "  test_acc = accuracy(params, test_images, test_labels)\n",
        "  print(f'Epoch {epoch} in {epoch_time:0.2f} sec')\n",
        "  print(f'Train acc. {train_acc}')\n",
        "  print(f'Test acc. {test_acc}')"
      ],
      "metadata": {
        "id": "64Vr-_BIIPi9"
      },
      "execution_count": null,
      "outputs": []
    },
    {
      "cell_type": "markdown",
      "source": [
        "## Data preparation"
      ],
      "metadata": {
        "id": "TcYI0zmDLYGm"
      }
    },
    {
      "cell_type": "code",
      "source": [
        "(x_train, y_train), (x_test, y_test) = keras.datasets.cifar10.load_data()"
      ],
      "metadata": {
        "id": "CGrsuoE_LXic"
      },
      "execution_count": null,
      "outputs": []
    },
    {
      "cell_type": "code",
      "source": [
        "print(f'x_train_shape: {x_train.shape} - y_train_shape: {y_train.shape}')\n",
        "print(f'x_test_shape: {x_test.shape} - y_test_shape: {y_test.shape}')"
      ],
      "metadata": {
        "id": "wloZz6chLRYl"
      },
      "execution_count": null,
      "outputs": []
    },
    {
      "cell_type": "code",
      "source": [],
      "metadata": {
        "id": "DxmjewIQLut6"
      },
      "execution_count": null,
      "outputs": []
    }
  ]
}